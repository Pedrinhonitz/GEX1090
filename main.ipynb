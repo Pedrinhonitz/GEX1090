{
 "cells": [
  {
   "cell_type": "markdown",
   "metadata": {},
   "source": [
    "# 📖 Imports"
   ]
  },
  {
   "cell_type": "code",
   "execution_count": 1,
   "metadata": {},
   "outputs": [],
   "source": [
    "from datetime import datetime\n",
    "from pandas import read_csv, to_datetime"
   ]
  },
  {
   "cell_type": "markdown",
   "metadata": {},
   "source": [
    "# 📁 Read Dataset"
   ]
  },
  {
   "cell_type": "code",
   "execution_count": 2,
   "metadata": {},
   "outputs": [],
   "source": [
    "df = read_csv(\n",
    "    r\"seeds/df_full.csv\",\n",
    "    sep=\",\"\n",
    ")"
   ]
  },
  {
   "cell_type": "markdown",
   "metadata": {},
   "source": [
    "# ✏️ Rename Columns"
   ]
  },
  {
   "cell_type": "code",
   "execution_count": 3,
   "metadata": {},
   "outputs": [],
   "source": [
    "df = df.rename(\n",
    "    columns={\n",
    "        \"Timestamp\": \"ts_collect\",\n",
    "        \"S1_1\": \"sensor_s1_1\",\n",
    "        \"S1_2\": \"sensor_s1_2\",\n",
    "        \"S1_3\": \"sensor_s1_3\",\n",
    "        \"S1_4\": \"sensor_s1_4\",\n",
    "        \"S1_5\": \"sensor_s1_5\",\n",
    "        \"S1_6\": \"sensor_s1_6\",\n",
    "        \"S2_1\": \"sensor_s2_1\",\n",
    "        \"S2_2\": \"sensor_s2_2\",\n",
    "        \"S3_1\": \"sensor_s3_1\",\n",
    "        \"S3_2\": \"sensor_s3_2\",\n",
    "        \"S4_1\": \"sensor_s4_1\",\n",
    "        \"S4_2\": \"sensor_s4_2\",\n",
    "        \"Nivel_agua\": \"water_level\",\n",
    "        \"Nivel_total\": \"total_level\"\n",
    "    }\n",
    ")"
   ]
  },
  {
   "cell_type": "markdown",
   "metadata": {},
   "source": [
    "# 📅 Format Date"
   ]
  },
  {
   "cell_type": "code",
   "execution_count": 4,
   "metadata": {},
   "outputs": [
    {
     "name": "stderr",
     "output_type": "stream",
     "text": [
      "/var/folders/t1/b4n143jx5w7d98nzjl9qs8sw0000gn/T/ipykernel_34965/251158098.py:1: UserWarning: Parsing dates in %d/%m/%Y %H:%M:%S.%f format when dayfirst=False (the default) was specified. Pass `dayfirst=True` or specify a format to silence this warning.\n",
      "  df[\"ts_collect\"] = to_datetime(df[\"ts_collect\"]).dt.strftime(\"%Y-%m-%d %H:%M:%S\")\n"
     ]
    }
   ],
   "source": [
    "df[\"ts_collect\"] = to_datetime(df[\"ts_collect\"]).dt.strftime(\"%Y-%m-%d %H:%M:%S\")"
   ]
  },
  {
   "cell_type": "markdown",
   "metadata": {},
   "source": [
    "# ❕ Creating Column Difference between Total Level and Water Level"
   ]
  },
  {
   "cell_type": "code",
   "execution_count": 8,
   "metadata": {},
   "outputs": [],
   "source": [
    "df[\"diff_level\"] = df[\"total_level\"] - df[\"water_level\"]"
   ]
  },
  {
   "cell_type": "code",
   "execution_count": 12,
   "metadata": {},
   "outputs": [
    {
     "data": {
      "text/plain": [
       "(66540, 16)"
      ]
     },
     "execution_count": 12,
     "metadata": {},
     "output_type": "execute_result"
    }
   ],
   "source": [
    "df.shape"
   ]
  },
  {
   "cell_type": "code",
   "execution_count": 13,
   "metadata": {},
   "outputs": [],
   "source": [
    "df.to_parquet(\n",
    "    r\"output/parquet/dataset_clean.parquet\",\n",
    "    index=False\n",
    ")"
   ]
  }
 ],
 "metadata": {
  "kernelspec": {
   "display_name": "Python 3",
   "language": "python",
   "name": "python3"
  },
  "language_info": {
   "codemirror_mode": {
    "name": "ipython",
    "version": 3
   },
   "file_extension": ".py",
   "mimetype": "text/x-python",
   "name": "python",
   "nbconvert_exporter": "python",
   "pygments_lexer": "ipython3",
   "version": "3.9.6"
  }
 },
 "nbformat": 4,
 "nbformat_minor": 2
}
